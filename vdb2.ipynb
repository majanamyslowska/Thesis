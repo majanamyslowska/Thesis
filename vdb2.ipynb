{
 "cells": [
  {
   "cell_type": "markdown",
   "metadata": {},
   "source": [
    "# FROM CSV TO PDF"
   ]
  },
  {
   "cell_type": "markdown",
   "metadata": {},
   "source": [
    "- need to add code that will immediately add and vectorise the pdf to the db, dont want to have a pdf saved\n",
    "- test5"
   ]
  },
  {
   "cell_type": "code",
   "execution_count": 1,
   "metadata": {},
   "outputs": [
    {
     "name": "stderr",
     "output_type": "stream",
     "text": [
      "USER_AGENT environment variable not set, consider setting it to identify your requests.\n"
     ]
    },
    {
     "name": "stdout",
     "output_type": "stream",
     "text": [
      "3 files saved to data3 folder.\n"
     ]
    }
   ],
   "source": [
    "import pandas as pd\n",
    "import bs4\n",
    "from langchain_community.document_loaders import WebBaseLoader\n",
    "from fpdf import FPDF\n",
    "import uuid\n",
    "import unidecode\n",
    "\n",
    "# Read the CSV file\n",
    "file_name = 'news_data_test.csv'\n",
    "df = pd.read_csv(file_name)\n",
    "\n",
    "path = './data3/'\n",
    "bs4_strainer = bs4.SoupStrainer(class_=(\"o-topper__headline o-topper__headline--large\", \"n-content-body js-article__content-body\"))\n",
    "pdfs_counter = 0\n",
    "\n",
    "for index, row in df.iterrows():\n",
    "    # Extract the relevant fields from the row\n",
    "    heading = row['Headline']\n",
    "    href_tag = row['Link']\n",
    "    date = row['Date']\n",
    "    \n",
    "    # Extract the href link from the href_tag\n",
    "    soup = bs4.BeautifulSoup(href_tag, 'html.parser')\n",
    "    href = soup.find('a')['href']\n",
    "    \n",
    "    myurl = 'https://www.ft.com' + href\n",
    "    \n",
    "    # Load the content from the URL\n",
    "    loader = WebBaseLoader(\n",
    "        web_paths=(myurl,),\n",
    "        bs_kwargs={\"parse_only\": bs4_strainer},\n",
    "    )\n",
    "    docs = loader.load()\n",
    "    \n",
    "    content = docs[0].page_content\n",
    "    \n",
    "    heading1 = unidecode.unidecode(heading)\n",
    "    date1 = unidecode.unidecode(date)\n",
    "    content = unidecode.unidecode(content)\n",
    "\n",
    "    pdf = FPDF()\n",
    "    pdf.add_page()\n",
    "    pdf.set_font(\"Arial\", size=12)\n",
    "    pdf.cell(200, 10, txt=\"Title: \" + heading1, ln=True)\n",
    "    pdf.cell(200, 10, txt=\"Date: \" + date1, ln=True)\n",
    "    pdf.multi_cell(0, 10, txt=content)  # Use multi_cell for content to handle line breaks\n",
    "\n",
    "    # Generate a unique file name\n",
    "    file_name = str(uuid.uuid4()) + \".pdf\"\n",
    "    full_path = path + file_name\n",
    "\n",
    "    # Output PDF for this article\n",
    "    pdf.output(full_path)\n",
    "    pdfs_counter += 1\n",
    "    \n",
    "print(f\"{pdfs_counter} files saved to data3 folder.\")\n"
   ]
  }
 ],
 "metadata": {
  "kernelspec": {
   "display_name": "base",
   "language": "python",
   "name": "python3"
  },
  "language_info": {
   "codemirror_mode": {
    "name": "ipython",
    "version": 3
   },
   "file_extension": ".py",
   "mimetype": "text/x-python",
   "name": "python",
   "nbconvert_exporter": "python",
   "pygments_lexer": "ipython3",
   "version": "3.12.2"
  }
 },
 "nbformat": 4,
 "nbformat_minor": 2
}
