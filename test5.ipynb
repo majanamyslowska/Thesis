{
 "cells": [
  {
   "cell_type": "markdown",
   "metadata": {},
   "source": [
    "# Setup"
   ]
  },
  {
   "cell_type": "code",
   "execution_count": 1,
   "metadata": {},
   "outputs": [],
   "source": [
    "# pip install psycopg2-binary pgvector asyncpg \"sqlalchemy[asyncio]\" greenlet\n",
    "# pip install llama-index-readers-file pymupdf\n",
    "# pip install llama-index-vector-stores-postgres\n",
    "# pip install llama-index-embeddings-huggingface\n",
    "# pip install llama-index-llms-llama-cpp\n",
    "# pip install llama-index-llms-openai"
   ]
  },
  {
   "cell_type": "markdown",
   "metadata": {},
   "source": [
    "Sentence transformers setup"
   ]
  },
  {
   "cell_type": "code",
   "execution_count": 1,
   "metadata": {},
   "outputs": [],
   "source": [
    "from llama_index.embeddings.huggingface import HuggingFaceEmbedding\n",
    "\n",
    "embed_model = HuggingFaceEmbedding(model_name=\"BAAI/bge-small-en\")"
   ]
  },
  {
   "cell_type": "code",
   "execution_count": 25,
   "metadata": {},
   "outputs": [],
   "source": [
    "# from llama_index.llms.llama_cpp import LlamaCPP\n",
    "\n",
    "# # model_url = \"https://huggingface.co/TheBloke/Llama-2-13B-chat-GGML/resolve/main/llama-2-13b-chat.ggmlv3.q4_0.bin\"\n",
    "# model_url = \"https://huggingface.co/TheBloke/Llama-2-13B-chat-GGUF/resolve/main/llama-2-13b-chat.Q4_0.gguf\"\n",
    "\n",
    "# llm = LlamaCPP(\n",
    "#     # You can pass in the URL to a GGML model to download it automatically\n",
    "#     model_url=model_url,\n",
    "#     # optionally, you can set the path to a pre-downloaded model instead of model_url\n",
    "#     model_path=None,\n",
    "#     temperature=0.1,\n",
    "#     max_new_tokens=256,\n",
    "#     # llama2 has a context window of 4096 tokens, but we set it lower to allow for some wiggle room\n",
    "#     context_window=3900,\n",
    "#     # kwargs to pass to __call__()\n",
    "#     generate_kwargs={},\n",
    "#     # kwargs to pass to __init__()\n",
    "#     # set to at least 1 to use GPU\n",
    "#     model_kwargs={\"n_gpu_layers\": 1},\n",
    "#     verbose=True,\n",
    "# )\n",
    "\n",
    "from llama_index.llms.openai import OpenAI\n",
    "\n",
    "llm = OpenAI(model=\"gpt-4o-mini\")\n",
    "# llm = OpenAI(model=\"gpt-3.5-turbo\")"
   ]
  },
  {
   "cell_type": "markdown",
   "metadata": {},
   "source": [
    "Postgres setup"
   ]
  },
  {
   "cell_type": "code",
   "execution_count": 3,
   "metadata": {},
   "outputs": [],
   "source": [
    "import psycopg2\n",
    "\n",
    "db_name = \"vector_db\"\n",
    "host = \"localhost\"\n",
    "password = \"password\"\n",
    "port = \"5432\"\n",
    "user = \"maja2\"\n",
    "# conn = psycopg2.connect(connection_string)\n",
    "conn = psycopg2.connect(\n",
    "    dbname=\"postgres\",\n",
    "    host=host,\n",
    "    password=password,\n",
    "    port=port,\n",
    "    user=user,\n",
    ")\n",
    "conn.autocommit = True\n",
    "\n",
    "with conn.cursor() as c:\n",
    "    c.execute(f\"DROP DATABASE IF EXISTS {db_name}\")\n",
    "    c.execute(f\"CREATE DATABASE {db_name}\")"
   ]
  },
  {
   "cell_type": "code",
   "execution_count": 4,
   "metadata": {},
   "outputs": [],
   "source": [
    "from sqlalchemy import make_url\n",
    "from llama_index.vector_stores.postgres import PGVectorStore\n",
    "\n",
    "vector_store = PGVectorStore.from_params(\n",
    "    database=db_name,\n",
    "    host=host,\n",
    "    password=password,\n",
    "    port=port,\n",
    "    user=user,\n",
    "    table_name=\"llama2_paper\",\n",
    "    embed_dim=384,  # openai embedding dimension\n",
    "    # need to enable hybrid search here\n",
    ")"
   ]
  },
  {
   "cell_type": "markdown",
   "metadata": {},
   "source": [
    "# Ingestion Pipeline"
   ]
  },
  {
   "cell_type": "code",
   "execution_count": 5,
   "metadata": {},
   "outputs": [],
   "source": [
    "# example with a pdf doc\n",
    "\n",
    "# !mkdir data\n",
    "# !wget --user-agent \"Mozilla\" \"https://arxiv.org/pdf/2307.09288.pdf\" -O \"data/llama2.pdf\""
   ]
  },
  {
   "cell_type": "markdown",
   "metadata": {},
   "source": [
    "Load data"
   ]
  },
  {
   "cell_type": "code",
   "execution_count": 6,
   "metadata": {},
   "outputs": [],
   "source": [
    "from pathlib import Path\n",
    "from llama_index.readers.file import PyMuPDFReader"
   ]
  },
  {
   "cell_type": "code",
   "execution_count": 7,
   "metadata": {},
   "outputs": [],
   "source": [
    "loader = PyMuPDFReader()\n",
    "documents = loader.load(file_path=\"./data2/llama2.pdf\")"
   ]
  },
  {
   "cell_type": "markdown",
   "metadata": {},
   "source": [
    "Use a Text Splitter to Split Documents"
   ]
  },
  {
   "cell_type": "code",
   "execution_count": 8,
   "metadata": {},
   "outputs": [],
   "source": [
    "from llama_index.core.node_parser import SentenceSplitter"
   ]
  },
  {
   "cell_type": "code",
   "execution_count": 9,
   "metadata": {},
   "outputs": [],
   "source": [
    "text_parser = SentenceSplitter(\n",
    "    chunk_size=1024,\n",
    "    # separator=\" \",\n",
    ")"
   ]
  },
  {
   "cell_type": "code",
   "execution_count": 11,
   "metadata": {},
   "outputs": [],
   "source": [
    "text_chunks = []\n",
    "# maintain relationship with source doc index, to help inject doc metadata in (3)\n",
    "doc_idxs = []\n",
    "for doc_idx, doc in enumerate(documents):\n",
    "    cur_text_chunks = text_parser.split_text(doc.text)\n",
    "    text_chunks.extend(cur_text_chunks)\n",
    "    doc_idxs.extend([doc_idx] * len(cur_text_chunks))"
   ]
  },
  {
   "cell_type": "markdown",
   "metadata": {},
   "source": [
    "Manually Construct Nodes from Text Chunks"
   ]
  },
  {
   "cell_type": "code",
   "execution_count": 13,
   "metadata": {},
   "outputs": [],
   "source": [
    "from llama_index.core.schema import TextNode\n",
    "\n",
    "nodes = []\n",
    "for idx, text_chunk in enumerate(text_chunks):\n",
    "    node = TextNode(\n",
    "        text=text_chunk,\n",
    "    )\n",
    "    src_doc = documents[doc_idxs[idx]]\n",
    "    node.metadata = src_doc.metadata\n",
    "    nodes.append(node)"
   ]
  },
  {
   "cell_type": "markdown",
   "metadata": {},
   "source": [
    "Generate Embeddings for each Node"
   ]
  },
  {
   "cell_type": "code",
   "execution_count": 14,
   "metadata": {},
   "outputs": [],
   "source": [
    "for node in nodes:\n",
    "    node_embedding = embed_model.get_text_embedding(\n",
    "        node.get_content(metadata_mode=\"all\")\n",
    "    )\n",
    "    node.embedding = node_embedding"
   ]
  },
  {
   "cell_type": "markdown",
   "metadata": {},
   "source": [
    "Load Nodes into a Vector Store"
   ]
  },
  {
   "cell_type": "code",
   "execution_count": 15,
   "metadata": {},
   "outputs": [
    {
     "data": {
      "text/plain": [
       "['422406ad-f62c-49da-bf3b-c9ac7740d3fc',\n",
       " 'bf46ed30-c6f2-4a96-a561-6d6a35870306',\n",
       " '4ec4d802-3658-4140-99e0-c5505ecb5196',\n",
       " '7c0934dc-f564-4630-8b2c-44e50dac9267',\n",
       " '7bea4802-4717-4e35-b919-840ce03fafed',\n",
       " '0815dee1-fd30-4d0e-a4ac-8af98a3a3f96',\n",
       " '240b44ff-0f64-4e15-84ad-b9757d98ca20',\n",
       " '243d9fc4-6afa-430e-8c7a-5ac14b419647',\n",
       " '1f2215a3-db8f-4bea-b784-36bf92a3fcb9',\n",
       " 'd8f24aee-9876-4dd1-911a-8fce33eeb453',\n",
       " '3c04dd71-b449-4ba3-8874-6b3365195078',\n",
       " '7f5eae28-949a-404b-8ee7-3bf2d12dee29',\n",
       " '09c2a011-890e-4871-b6f2-fb4081d0f661',\n",
       " '26d85b6c-9ef3-4dcc-af7b-b5d9ae01cab1',\n",
       " 'f852c12e-3606-4fbd-a8c2-067e7327d35d',\n",
       " '00242be6-5c1e-4d36-bda4-88340aaf852a',\n",
       " '3ccd93c8-ef20-413a-855f-efae7bd280fa',\n",
       " 'abaa9e09-064e-4647-8048-25d681e8036e',\n",
       " '4661625f-28ec-4db6-b665-c4e89bd4250f',\n",
       " 'e7b53c06-6c2e-472f-9db3-7b7b2672003e',\n",
       " '7d71b4e2-8f4f-4123-ab96-67532d0d9380',\n",
       " '2fd3eb09-6a51-47a2-89fe-b08c7bec8bb7',\n",
       " 'a5c9e867-5c58-4e2f-bc9a-0197b298df15',\n",
       " 'd3e219d7-c612-45b9-8d5a-c8d967265948',\n",
       " '55147c50-35e4-4f61-9607-fd3c5c30f471',\n",
       " '933fa766-1d26-4662-9a8e-da0cfa991f94',\n",
       " 'fc77fc69-7ed3-46e8-a208-2fdede339137',\n",
       " '862af796-4e0f-4a03-852d-8cfc24e794e0',\n",
       " '352155df-c478-45df-ae4e-b0964aac371d',\n",
       " 'b1dba564-d47e-4ac2-9a1a-85094f57e443',\n",
       " '78c46d3a-ed9b-4bc0-996f-39cfea91b127',\n",
       " '8749c636-b70b-4ffd-bf4b-5e7c3dc1bab5',\n",
       " '125b1bbe-02ac-4c66-ba94-e482cda0c7e4',\n",
       " 'dcda3c32-53a1-478e-bf5f-3a0afa99d963',\n",
       " 'be6a1a64-d6c9-4f9b-9948-0b708e17de9a',\n",
       " 'ab77afd8-d251-4ed7-8c00-1efe2ecd419d',\n",
       " 'eb6f1d9f-1c6d-4956-af2e-7ef9cc9e60d6',\n",
       " '4d1e241e-af54-4da4-846a-63b7ad672b34',\n",
       " '8577bf64-fafd-409e-b826-43e8689a5f8c',\n",
       " '51b98cc5-714f-40e9-9841-30a5b19f573d',\n",
       " '74b3604c-e739-453d-a9dc-b8c9d959681b',\n",
       " '33653a9d-ba79-4e16-ae81-8ea28524c448',\n",
       " '7e3e8119-4bde-4c4a-b1a3-61dea8340c8e',\n",
       " '5d65c1e9-c32a-4b77-b473-00f591305c0b',\n",
       " 'c68a597d-07e9-4f82-bf8a-07c29e87200b',\n",
       " 'e5ba7157-c7a0-4e65-9b70-f5f50d2289a2',\n",
       " 'f22f58c2-ca16-4054-a9bc-447f0ff43319',\n",
       " '5a32042d-fb71-4fdb-8296-2fb5b1d6076d',\n",
       " '11b04467-8feb-48ed-be80-e90fc4bb085e',\n",
       " 'fcc91f43-20e7-486e-84c2-862af16cf80c',\n",
       " '485d6efd-f613-40d6-a04b-9cbe9d226e98',\n",
       " 'a7519fef-537f-447e-83d9-258f0e4e4ccd',\n",
       " '9dac53cd-4a06-4bc2-8d48-89ec119e3301',\n",
       " '56b07d57-45a5-4a83-b2f0-ae096d1bc81e',\n",
       " '10c2f537-d9d7-466c-93ca-032c12d479cf',\n",
       " '93e42860-ba00-41b8-8b59-36198c3cce45',\n",
       " '37203ceb-c7e7-4eb9-b2a9-a056b9f83857',\n",
       " '4d60e40d-8afa-4141-941b-a44192948a6b',\n",
       " 'e1c692be-fb63-43a4-83b9-b67da03d09da',\n",
       " '5516a4dc-48c4-4140-9957-d49345e87c80',\n",
       " 'dfc7695d-c7e3-49a8-8669-e0d4fd22b7f6',\n",
       " '1ec5cf6c-8589-4c5f-b01f-4a3cec113fcb',\n",
       " '05307646-7a27-4b5f-b1cc-0d91bf06191e',\n",
       " '804a2c2c-fbf2-45c7-91d1-51a46825c0d6',\n",
       " 'e9f28152-381b-462c-9c30-21ee99adabf5',\n",
       " '5b14a1a9-0154-49c0-b801-a3967b7e5654',\n",
       " 'f3198b25-92e1-4d46-bb78-df2835ff0f5e',\n",
       " 'cd0afbd5-9266-4aa9-8ef9-0ad5705c4a75',\n",
       " 'eb0f78d9-0ab3-445b-943f-87f813b557d2',\n",
       " '6dd46a6f-df61-4420-b4a0-f30531879f21',\n",
       " '3c5dfc61-6592-49ba-bf73-bb7e69e4bc47',\n",
       " '6dc840f9-7ae1-4709-9553-8504fea5ad59',\n",
       " 'fd057b1c-660c-4af4-818f-53f2c8baff81',\n",
       " 'fbf0b86d-1c09-40ad-a277-790b1ca28087',\n",
       " 'd2c5ec64-5b7c-4942-861f-143e2bd50d06',\n",
       " '6706eec7-e7a5-489b-b0bf-0983e4d28a27',\n",
       " '3c6d0b44-abee-487f-9403-d43f61bc601e',\n",
       " 'dcb4ec7b-e8e4-4efb-ab80-83db3f8556be',\n",
       " 'e236e452-9916-4bf8-9d0e-2c132dfeb010',\n",
       " 'cd9e5684-0e55-4afe-9c87-6a1095a5c8d0',\n",
       " 'aa3e1a1e-b52f-4420-84c5-2933b27de9e8',\n",
       " '9b72a8dc-e3fe-4e0c-bbb7-126af104b40f',\n",
       " 'e5b6f2a4-8f78-4013-933f-a68246f3b3e1',\n",
       " '079468e3-9926-462c-871f-6320892505a6',\n",
       " '9718e2fc-8fd6-4eb0-8067-d4ac3f4a94f9',\n",
       " '73dcbe47-c6b2-47e1-8745-75c1993d380b',\n",
       " '649addef-9e44-45c3-a379-63ef991da0a1',\n",
       " 'd15d1789-fedd-4e03-87d9-e6fce1e4f05f',\n",
       " '2bbf6d0c-c8fb-4db5-9b8c-94a30b07b8cd',\n",
       " '9ccdb581-3ff7-4d07-b051-237fcad95b2e',\n",
       " 'dec6fe62-5d8a-422e-af76-8bf33a31ad7a',\n",
       " '781f7af4-7f0f-4bcb-b9fb-5a04173b0dfa',\n",
       " 'bb2645b9-0677-4ed1-a4d7-497189458ea4',\n",
       " 'da323576-1a2e-4a70-b0ae-eeaa059e8051',\n",
       " 'cd7cb141-2426-495f-9f46-3e731717b879',\n",
       " '77bb6a8e-e00f-4903-88ed-20c65c660c95',\n",
       " '569fa5d3-4749-4859-91e7-b18d0a171c6e',\n",
       " 'c69a39c9-9544-46c3-bfd4-4b6c61d423c8',\n",
       " '8685636d-34e6-4aea-a46f-1a1e933be8b2',\n",
       " '7e913597-bb47-48ff-bed5-da123942351e',\n",
       " '1927ea79-fc05-4bd0-ae26-7009b856fea3',\n",
       " 'e6484b23-d7d2-43e7-84ee-bcecd478e7fd',\n",
       " 'e62208d8-6124-4119-9966-73bf0f99acf0',\n",
       " 'ac55a8cd-3eeb-4f8e-8a89-62289d06b257',\n",
       " '7848b4a7-2b5b-4b0c-ba8e-6d3987a3e46c',\n",
       " 'fcd74498-c9e4-43f0-8a47-a3d0b6441509',\n",
       " '05412760-fbc1-4553-a1b5-d0a03d075397']"
      ]
     },
     "execution_count": 15,
     "metadata": {},
     "output_type": "execute_result"
    }
   ],
   "source": [
    "vector_store.add(nodes)"
   ]
  },
  {
   "cell_type": "markdown",
   "metadata": {},
   "source": [
    "# Retrieval Pipeline"
   ]
  },
  {
   "cell_type": "code",
   "execution_count": 16,
   "metadata": {},
   "outputs": [],
   "source": [
    "query_str = \"Can you tell me about the key concepts for safety finetuning\""
   ]
  },
  {
   "cell_type": "markdown",
   "metadata": {},
   "source": [
    "Generate a Query Embedding"
   ]
  },
  {
   "cell_type": "code",
   "execution_count": 17,
   "metadata": {},
   "outputs": [],
   "source": [
    "query_embedding = embed_model.get_query_embedding(query_str)"
   ]
  },
  {
   "cell_type": "markdown",
   "metadata": {},
   "source": [
    "Query the Vector Database"
   ]
  },
  {
   "cell_type": "code",
   "execution_count": 18,
   "metadata": {},
   "outputs": [],
   "source": [
    "# construct vector store query\n",
    "from llama_index.core.vector_stores import VectorStoreQuery\n",
    "\n",
    "query_mode = \"default\"\n",
    "# query_mode = \"sparse\"\n",
    "# query_mode = \"hybrid\"\n",
    "\n",
    "vector_store_query = VectorStoreQuery(\n",
    "    query_embedding=query_embedding, similarity_top_k=2, mode=query_mode\n",
    ")"
   ]
  },
  {
   "cell_type": "code",
   "execution_count": 19,
   "metadata": {},
   "outputs": [
    {
     "name": "stdout",
     "output_type": "stream",
     "text": [
      "TruthfulQA ↑\n",
      "ToxiGen ↓\n",
      "MPT\n",
      "7B\n",
      "29.13\n",
      "22.32\n",
      "30B\n",
      "35.25\n",
      "22.61\n",
      "Falcon\n",
      "7B\n",
      "25.95\n",
      "14.53\n",
      "40B\n",
      "40.39\n",
      "23.44\n",
      "Llama 1\n",
      "7B\n",
      "27.42\n",
      "23.00\n",
      "13B\n",
      "41.74\n",
      "23.08\n",
      "33B\n",
      "44.19\n",
      "22.57\n",
      "65B\n",
      "48.71\n",
      "21.77\n",
      "Llama 2\n",
      "7B\n",
      "33.29\n",
      "21.25\n",
      "13B\n",
      "41.86\n",
      "26.10\n",
      "34B\n",
      "43.45\n",
      "21.19\n",
      "70B\n",
      "50.18\n",
      "24.60\n",
      "Table 11: Evaluation of pretrained LLMs on automatic safety benchmarks. For TruthfulQA, we present the\n",
      "percentage of generations that are both truthful and informative (the higher the better). For ToxiGen, we\n",
      "present the percentage of toxic generations (the smaller, the better).\n",
      "Benchmarks give a summary view of model capabilities and behaviors that allow us to understand general\n",
      "patterns in the model, but they do not provide a fully comprehensive view of the impact the model may have\n",
      "on people or real-world outcomes; that would require study of end-to-end product deployments. Further\n",
      "testing and mitigation should be done to understand bias and other social issues for the specific context\n",
      "in which a system may be deployed. For this, it may be necessary to test beyond the groups available in\n",
      "the BOLD dataset (race, religion, and gender). As LLMs are integrated and deployed, we look forward to\n",
      "continuing research that will amplify their potential for positive impact on these important social issues.\n",
      "4.2\n",
      "Safety Fine-Tuning\n",
      "In this section, we describe our approach to safety fine-tuning, including safety categories, annotation\n",
      "guidelines, and the techniques we use to mitigate safety risks. We employ a process similar to the general\n",
      "fine-tuning methods as described in Section 3, with some notable differences related to safety concerns.\n",
      "Specifically, we use the following techniques in safety fine-tuning:\n",
      "1. Supervised Safety Fine-Tuning: We initialize by gathering adversarial prompts and safe demonstra-\n",
      "tions that are then included in the general supervised fine-tuning process (Section 3.1). This teaches\n",
      "the model to align with our safety guidelines even before RLHF, and thus lays the foundation for\n",
      "high-quality human preference data annotation.\n",
      "2. Safety RLHF: Subsequently, we integrate safety in the general RLHF pipeline described in Sec-\n",
      "tion 3.2.2. This includes training a safety-specific reward model and gathering more challenging\n",
      "adversarial prompts for rejection sampling style fine-tuning and PPO optimization.\n",
      "3. Safety Context Distillation: Finally, we refine our RLHF pipeline with context distillation (Askell\n",
      "et al., 2021b). This involves generating safer model responses by prefixing a prompt with a safety\n",
      "preprompt, e.g., “You are a safe and responsible assistant,” and then fine-tuning the model on the safer\n",
      "responses without the preprompt, which essentially distills the safety preprompt (context) into the\n",
      "model. We use a targeted approach that allows our safety reward model to choose whether to use\n",
      "context distillation for each sample.\n",
      "4.2.1\n",
      "Safety Categories and Annotation Guidelines\n",
      "Based on limitations of LLMs known from prior work, we design instructions for our annotation team to\n",
      "create adversarial prompts along two dimensions: a risk category, or potential topic about which the LLM\n",
      "could produce unsafe content; and an attack vector, or question style to cover different varieties of prompts\n",
      "that could elicit bad model behaviors.\n",
      "The risk categories considered can be broadly divided into the following three categories: illicit and criminal\n",
      "activities (e.g., terrorism, theft, human trafficking); hateful and harmful activities (e.g., defamation, self-\n",
      "harm, eating disorders, discrimination); and unqualified advice (e.g., medical advice, financial advice, legal\n",
      "23\n"
     ]
    }
   ],
   "source": [
    "# returns a VectorStoreQueryResult\n",
    "query_result = vector_store.query(vector_store_query)\n",
    "print(query_result.nodes[0].get_content())"
   ]
  },
  {
   "cell_type": "markdown",
   "metadata": {},
   "source": [
    "Parse Result into a Set of Nodes"
   ]
  },
  {
   "cell_type": "code",
   "execution_count": 20,
   "metadata": {},
   "outputs": [],
   "source": [
    "from llama_index.core.schema import NodeWithScore\n",
    "from typing import Optional\n",
    "\n",
    "nodes_with_scores = []\n",
    "for index, node in enumerate(query_result.nodes):\n",
    "    score: Optional[float] = None\n",
    "    if query_result.similarities is not None:\n",
    "        score = query_result.similarities[index]\n",
    "    nodes_with_scores.append(NodeWithScore(node=node, score=score))"
   ]
  },
  {
   "cell_type": "markdown",
   "metadata": {},
   "source": [
    "Put into a Retriever"
   ]
  },
  {
   "cell_type": "code",
   "execution_count": 21,
   "metadata": {},
   "outputs": [],
   "source": [
    "from llama_index.core import QueryBundle\n",
    "from llama_index.core.retrievers import BaseRetriever\n",
    "from typing import Any, List\n",
    "\n",
    "\n",
    "class VectorDBRetriever(BaseRetriever):\n",
    "    \"\"\"Retriever over a postgres vector store.\"\"\"\n",
    "\n",
    "    def __init__(\n",
    "        self,\n",
    "        vector_store: PGVectorStore,\n",
    "        embed_model: Any,\n",
    "        query_mode: str = \"default\",\n",
    "        similarity_top_k: int = 2,\n",
    "    ) -> None:\n",
    "        \"\"\"Init params.\"\"\"\n",
    "        self._vector_store = vector_store\n",
    "        self._embed_model = embed_model\n",
    "        self._query_mode = query_mode\n",
    "        self._similarity_top_k = similarity_top_k\n",
    "        super().__init__()\n",
    "\n",
    "    def _retrieve(self, query_bundle: QueryBundle) -> List[NodeWithScore]:\n",
    "        \"\"\"Retrieve.\"\"\"\n",
    "        query_embedding = embed_model.get_query_embedding(\n",
    "            query_bundle.query_str\n",
    "        )\n",
    "        vector_store_query = VectorStoreQuery(\n",
    "            query_embedding=query_embedding,\n",
    "            similarity_top_k=self._similarity_top_k,\n",
    "            mode=self._query_mode,\n",
    "        )\n",
    "        query_result = vector_store.query(vector_store_query)\n",
    "\n",
    "        nodes_with_scores = []\n",
    "        for index, node in enumerate(query_result.nodes):\n",
    "            score: Optional[float] = None\n",
    "            if query_result.similarities is not None:\n",
    "                score = query_result.similarities[index]\n",
    "            nodes_with_scores.append(NodeWithScore(node=node, score=score))\n",
    "\n",
    "        return nodes_with_scores"
   ]
  },
  {
   "cell_type": "code",
   "execution_count": 22,
   "metadata": {},
   "outputs": [],
   "source": [
    "retriever = VectorDBRetriever(\n",
    "    vector_store, embed_model, query_mode=\"default\", similarity_top_k=2\n",
    ")"
   ]
  },
  {
   "cell_type": "markdown",
   "metadata": {},
   "source": [
    "# RetrieverQueryEngine Response"
   ]
  },
  {
   "cell_type": "code",
   "execution_count": 29,
   "metadata": {},
   "outputs": [
    {
     "name": "stdout",
     "output_type": "stream",
     "text": [
      "The temperature parameter plays a crucial role in the exploration process during the RLHF training. It influences the diversity of the outputs generated by the model. A higher temperature allows for more varied responses, which can lead to better exploration of the output space. The optimal temperature is not static and changes during iterative model updates, indicating that RLHF affects how temperature is adjusted. Specifically, for the Llama 2-Chat-RLHF model, the optimal temperature when sampling between 10 and 100 outputs ranges from approximately 1.2 to 1.3. This necessitates a progressive re-adjustment of the temperature within a finite compute budget to maximize performance.\n"
     ]
    }
   ],
   "source": [
    "# issue: long response time, need to switch to a diff llm\n",
    "\n",
    "from llama_index.core.query_engine import RetrieverQueryEngine\n",
    "query_engine = RetrieverQueryEngine.from_args(retriever, llm=llm)\n",
    "\n",
    "# query_str = \"How does Llama 2 perform compared to other open-source models?\"\n",
    "query_str = \"Describe the RLHF impact of the temperature\"\n",
    "response = query_engine.query(query_str)\n",
    "\n",
    "print(str(response))\n",
    "\n",
    "# print(response.source_nodes[0].get_content())"
   ]
  },
  {
   "cell_type": "code",
   "execution_count": 27,
   "metadata": {},
   "outputs": [
    {
     "name": "stdout",
     "output_type": "stream",
     "text": [
      "Additionally, Llama 2 70B model outperforms all open-source models.\n",
      "In addition to open-source models, we also compare Llama 2 70B results to closed-source models. As shown\n",
      "in Table 4, Llama 2 70B is close to GPT-3.5 (OpenAI, 2023) on MMLU and GSM8K, but there is a significant\n",
      "gap on coding benchmarks. Llama 2 70B results are on par or better than PaLM (540B) (Chowdhery et al.,\n",
      "2022) on almost all benchmarks. There is still a large gap in performance between Llama 2 70B and GPT-4\n",
      "and PaLM-2-L.\n",
      "We also analysed the potential data contamination and share the details in Section A.6.\n",
      "Benchmark (shots)\n",
      "GPT-3.5\n",
      "GPT-4\n",
      "PaLM\n",
      "PaLM-2-L\n",
      "Llama 2\n",
      "MMLU (5-shot)\n",
      "70.0\n",
      "86.4\n",
      "69.3\n",
      "78.3\n",
      "68.9\n",
      "TriviaQA (1-shot)\n",
      "–\n",
      "–\n",
      "81.4\n",
      "86.1\n",
      "85.0\n",
      "Natural Questions (1-shot)\n",
      "–\n",
      "–\n",
      "29.3\n",
      "37.5\n",
      "33.0\n",
      "GSM8K (8-shot)\n",
      "57.1\n",
      "92.0\n",
      "56.5\n",
      "80.7\n",
      "56.8\n",
      "HumanEval (0-shot)\n",
      "48.1\n",
      "67.0\n",
      "26.2\n",
      "–\n",
      "29.9\n",
      "BIG-Bench Hard (3-shot)\n",
      "–\n",
      "–\n",
      "52.3\n",
      "65.7\n",
      "51.2\n",
      "Table 4: Comparison to closed-source models on academic benchmarks. Results for GPT-3.5 and GPT-4\n",
      "are from OpenAI (2023). Results for the PaLM model are from Chowdhery et al. (2022). Results for the\n",
      "PaLM-2-L are from Anil et al. (2023).\n",
      "3\n",
      "Fine-tuning\n",
      "Llama 2-Chat is the result of several months of research and iterative applications of alignment techniques,\n",
      "including both instruction tuning and RLHF, requiring significant computational and annotation resources.\n",
      "In this section, we report on our experiments and findings using supervised fine-tuning (Section 3.1), as\n",
      "well as initial and iterative reward modeling (Section 3.2.2) and RLHF (Section 3.2.3). We also share a\n",
      "new technique, Ghost Attention (GAtt), which we find helps control dialogue flow over multiple turns\n",
      "(Section 3.3). See Section 4.2 for safety evaluations on fine-tuned models.\n",
      "8\n"
     ]
    }
   ],
   "source": [
    "print(response.source_nodes[0].get_content())"
   ]
  }
 ],
 "metadata": {
  "kernelspec": {
   "display_name": "base",
   "language": "python",
   "name": "python3"
  },
  "language_info": {
   "codemirror_mode": {
    "name": "ipython",
    "version": 3
   },
   "file_extension": ".py",
   "mimetype": "text/x-python",
   "name": "python",
   "nbconvert_exporter": "python",
   "pygments_lexer": "ipython3",
   "version": "3.12.2"
  }
 },
 "nbformat": 4,
 "nbformat_minor": 2
}
