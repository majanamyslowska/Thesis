{
 "cells": [
  {
   "cell_type": "code",
   "execution_count": null,
   "metadata": {},
   "outputs": [],
   "source": [
    "# web scraping to pdf"
   ]
  },
  {
   "cell_type": "code",
   "execution_count": 13,
   "metadata": {},
   "outputs": [
    {
     "name": "stdout",
     "output_type": "stream",
     "text": [
      "Total articles collected in news_data: 25\n"
     ]
    }
   ],
   "source": [
    "# ft articles data [heading, link, date]\n",
    "\n",
    "import requests\n",
    "from bs4 import BeautifulSoup\n",
    "\n",
    "news_data = []\n",
    "keyword = 'exxon'\n",
    "            \n",
    "\n",
    "for page in range(1, 2):\n",
    "    url = f\"https://www.ft.com/search?q={keyword}&page={page}&sort=date&isFirstView=true\"\n",
    "    result = requests.get(url)\n",
    "    result_content = result.content\n",
    "    soup = BeautifulSoup(result_content, \"lxml\")\n",
    "    \n",
    "    for article in soup.findAll(\"div\", {\"class\": \"o-teaser\"}):\n",
    "        heading = article.find(\"div\", {\"class\": \"o-teaser__heading\"}).get_text(strip=True) #find(text=True), find text is outdated\n",
    "        link = article.find(\"div\", {\"class\": \"o-teaser__heading\"}).find('a', href=True)\n",
    "        date = article.find('time', {\"class\": \"o-teaser__timestamp-date\"})\n",
    "\n",
    "        if heading and link and date:\n",
    "            news_data.append([heading, link['href'], date.text.strip()])\n",
    "\n",
    "print(f\"Total articles collected in news_data: {len(news_data)}\")"
   ]
  },
  {
   "cell_type": "code",
   "execution_count": 14,
   "metadata": {},
   "outputs": [
    {
     "name": "stdout",
     "output_type": "stream",
     "text": [
      "25 files saved to data3 folder.\n"
     ]
    }
   ],
   "source": [
    "import bs4\n",
    "from langchain_community.document_loaders import WebBaseLoader\n",
    "from fpdf import FPDF\n",
    "import uuid\n",
    "import unidecode\n",
    "\n",
    "path = './data3/'\n",
    "bs4_strainer = bs4.SoupStrainer(class_=(\"o-topper__headline o-topper__headline--large\", \"n-content-body js-article__content-body\"))\n",
    "pdfs_counter = 0\n",
    "\n",
    "for item in news_data:\n",
    "    myurl = 'https://www.ft.com' + item[1]\n",
    "    \n",
    "    loader = WebBaseLoader(\n",
    "        web_paths=(myurl,),\n",
    "        bs_kwargs={\"parse_only\": bs4_strainer},\n",
    "    )\n",
    "    docs = loader.load()\n",
    "\n",
    "    content = docs[0].page_content\n",
    "    \n",
    "    heading1 = unidecode.unidecode(item[0])\n",
    "    date1 = unidecode.unidecode(item[2])\n",
    "    content = unidecode.unidecode(content)\n",
    "\n",
    "    pdf = FPDF()\n",
    "    pdf.add_page()\n",
    "    pdf.set_font(\"Arial\", size=12)\n",
    "    pdf.cell(200, 10, txt=\"Title: \" + heading1, ln=True)\n",
    "    pdf.cell(200, 10, txt=\"Date: \" + date1, ln=True)\n",
    "    pdf.multi_cell(0, 10, txt=content)  # Use multi_cell for content to handle line breaks\n",
    "\n",
    "    # Generate a unique file name\n",
    "    file_name = str(uuid.uuid4()) + \".pdf\"\n",
    "    full_path = path + file_name\n",
    "\n",
    "    # Output PDF for this article\n",
    "    pdf.output(full_path)\n",
    "    pdfs_counter += 1\n",
    "    \n",
    "print(f\"{pdfs_counter} files saved to data3 folder.\")\n"
   ]
  }
 ],
 "metadata": {
  "kernelspec": {
   "display_name": "base",
   "language": "python",
   "name": "python3"
  },
  "language_info": {
   "codemirror_mode": {
    "name": "ipython",
    "version": 3
   },
   "file_extension": ".py",
   "mimetype": "text/x-python",
   "name": "python",
   "nbconvert_exporter": "python",
   "pygments_lexer": "ipython3",
   "version": "3.12.2"
  }
 },
 "nbformat": 4,
 "nbformat_minor": 2
}
