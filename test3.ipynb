{
 "cells": [
  {
   "cell_type": "code",
   "execution_count": 2,
   "metadata": {},
   "outputs": [
    {
     "name": "stderr",
     "output_type": "stream",
     "text": [
      "/var/folders/w9/qwhj77nd0dn8pf5px6zk_xxw0000gn/T/ipykernel_46702/582831394.py:12: DeprecationWarning: The 'text' argument to find()-type methods is deprecated. Use 'string' instead.\n",
      "  titles=title.find(text=True)\n"
     ]
    },
    {
     "name": "stdout",
     "output_type": "stream",
     "text": [
      "Microsoft and Occidental sign carbon credit deal to help offset AI energy surge\n",
      "Dyson to cut a quarter of UK workforce\n",
      "PageGroup warns on profits amid continued hiring slowdown \n",
      "Labour must be ‘belligerent’ on affordable homes, housebuilder warns\n",
      "BP warns profits likely to be lower than expected\n",
      "New £7bn National Wealth Fund to start green investment ‘immediately’\n",
      "Growth stalls at Elon Musk’s X\n",
      "World’s largest oil company bets on the enduring power of petrol\n",
      "Nike’s new chief runs into trouble as turnaround efforts falter\n",
      "Gridlock in China: spending on network surges to support green energy transition\n",
      "Europe’s battery industry hit by EV slowdown \n",
      "The Business of Tennis\n",
      "Watches and Jewellery: July\n",
      "The Oracle heir with an offer Redstone couldn’t refuse\n",
      "World’s largest oil company bets on the enduring power of petrol\n",
      "Growth stalls at Elon Musk’s X\n",
      "Dyson to cut a quarter of UK workforce\n",
      "Thames Water chief defends bonus amid plan for hefty bill increases\n",
      "Nike’s new chief runs into trouble as turnaround efforts falter\n",
      "Podcast host, Israel critic: Meet England’s new attorney-general \n",
      "Coffee prices set to rise even higher, warns Italian roaster Lavazza\n",
      "Shein to launch €200mn fund to tackle fashion waste as it awaits IPO approval\n",
      "BP’s hit shows European refining remains a miserable business \n",
      "UK pension plans overpay £1.5bn in fees to fund managers\n",
      "Northvolt slips at ‘critical’ moment for European battery industry \n",
      "FirstFT: Paramount’s new owner outlines vision for storied Hollywood studio\n",
      "Australia accuses China-backed hackers of breaching government networks\n",
      "Partner pay nears £2mn at Linklaters \n",
      "Smart tractors can’t steer out of this agricultural slump\n",
      "Singapore port congestion threatens to gum up global trade\n",
      "Temasek to prioritise US deals and stay cautious on China\n",
      "Moscow court orders arrest of Alexei Navalny’s widow\n",
      "DWS plans to boost active ETF business\n",
      "Thames Water chief defends bonus amid plan for hefty bill increases\n",
      "Value stocks in a growth stock world\n",
      "Boeing guilty plea to fraud unlikely to hit shares or credit rating, say analysts \n",
      "Ellison says Paramount will become ‘media and tech’ company \n",
      "Recovery in dealmaking will fuel an activist comeback \n",
      "The Oracle heir with an offer Redstone couldn’t refuse\n",
      "Low valuations for clean energy groups are hampering green transition, says ReNew boss\n",
      "UK hotel dealmaking hits highest level in almost a decade \n",
      "BlackRock among blue-chip investors as Melrose corporate raiders return\n",
      "Even Wall Street bankers’ kids need lessons in financial literacy\n",
      "Tesla and Musk antagonists face off over multibillion-dollar lawyer fee\n",
      "Recovery in dealmaking will fuel an activist comeback \n",
      "The Oracle heir with an offer Redstone couldn’t refuse\n",
      "Low valuations for clean energy groups are hampering green transition, says ReNew boss\n",
      "UK hotel dealmaking hits highest level in almost a decade \n",
      "Growth stalls at Elon Musk’s X\n",
      "Nike’s new chief runs into trouble as turnaround efforts falter\n",
      "BlackRock among blue-chip investors as Melrose corporate raiders return\n",
      "Even Wall Street bankers’ kids need lessons in financial literacy\n",
      "Gridlock in China: spending on network surges to support green energy transition\n",
      "Tesla and Musk antagonists face off over multibillion-dollar lawyer fee\n",
      "Tesla vs BYD: why US maker might have to expand its EV range\n",
      "News updates from July 8: Biden tells congressional Democrats he will stay in race; French stocks close lower after leftwing surge thwarts far right\n",
      "US urges jury to convict Archegos’ Hwang: ‘what happened here was fraud’\n",
      "Hurricane Beryl strikes at heart of US energy industry\n",
      "LetterOne claims sanctions on founders pushing capital away from the west\n",
      "BYD agrees $1bn deal to build electric vehicle plant in Turkey\n",
      "Sequoia Capital’s former China unit raises new $2.5bn start-up fund \n",
      "Terry Smith defends move to shun US technology stock Nvidia\n",
      "Labour expected to launch ‘postmortem’ audit of NHS finances\n",
      "Europe’s battery industry hit by EV slowdown \n",
      "Brookfield ups the ante in UK pensions with insurance start-up\n",
      "The Redstones leave investors on the hook for their Paramount failings\n",
      "Bond veteran Jim Leaviss to leave M&G\n",
      "Migration, inflation and vacation\n",
      "Does Brussels plan to charge Chinese batteries?\n",
      "The Business of Tennis\n",
      "Watches and Jewellery: July\n",
      "The Oracle heir with an offer Redstone couldn’t refuse\n"
     ]
    }
   ],
   "source": [
    "import requests\n",
    "from bs4 import BeautifulSoup\n",
    "\n",
    "news_titles=[]\n",
    "\n",
    "for page in range(1,2):\n",
    "    url=\"https://www.ft.com/companies?page=\" + str(page)\n",
    "    result=requests.get(url)\n",
    "    reshult=result.content\n",
    "    soup=BeautifulSoup(reshult, \"lxml\")\n",
    "    for title in soup.findAll(\"div\",{\"class\":\"o-teaser__heading\"}):\n",
    "        titles=title.find(text=True)\n",
    "        news_titles.append(titles)\n",
    "\n",
    "for item in news_titles:\n",
    "    print (item)\n",
    "\n",
    "print(len(news_titles))"
   ]
  }
 ],
 "metadata": {
  "kernelspec": {
   "display_name": "Python 3",
   "language": "python",
   "name": "python3"
  },
  "language_info": {
   "codemirror_mode": {
    "name": "ipython",
    "version": 3
   },
   "file_extension": ".py",
   "mimetype": "text/x-python",
   "name": "python",
   "nbconvert_exporter": "python",
   "pygments_lexer": "ipython3",
   "version": "3.12.2"
  }
 },
 "nbformat": 4,
 "nbformat_minor": 2
}
