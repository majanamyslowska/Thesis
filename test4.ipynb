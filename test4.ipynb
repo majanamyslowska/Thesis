{
 "cells": [
  {
   "cell_type": "code",
   "execution_count": 1,
   "metadata": {},
   "outputs": [
    {
     "name": "stdout",
     "output_type": "stream",
     "text": [
      "Heading: Oil industry eyes petrochemicals profits amid uncertain fossil fuel demandPremiumcontent, Link: /content/d1e582ea-4b08-418b-aa33-18dc943688c1, Date: July 8, 2024\n",
      "Heading: Proxy season results show support for ESG efforts continues to ebb, Link: /content/1089ff59-47b9-41a2-83b1-98a205587b23, Date: July 5, 2024\n",
      "Heading: Letter: Here’s my simple question about Guyana’s oil bonanza, Link: /content/c4f06b34-39f4-45d6-bda4-2c089cb44020, Date: July 1, 2024\n",
      "Heading: Keep faith in China, Li Qiang tells business at ‘Summer Davos’, Link: /content/1f04f30c-a8c1-4b2e-83cc-dd0a4a8ee350, Date: June 28, 2024\n",
      "Heading: Trump would be ‘devastating’ for offshore wind, warns Massachusetts governorPremiumcontent, Link: /content/0190f812-f6a0-4662-b8f8-a0c8077a70b0, Date: June 27, 2024\n",
      "Heading: Business bridles at cost of green transition, Link: /content/f41bd09a-a870-49fa-8a85-6138c6469d56, Date: June 26, 2024\n",
      "Heading: Transcript: WillExxonmake or break Guyana?, Link: /content/a96ae9c3-1013-4dbb-b2df-8ae7e9ab03c3, Date: June 26, 2024\n",
      "Heading: WillExxonmake or break Guyana?, Link: /content/0cd147e8-914e-4103-ba65-22e0ee757eef, Date: June 26, 2024\n",
      "Heading: Will Mexico’s president-elect meet the nation’s renewable targets?Premiumcontent, Link: /content/921e2266-6ab9-4793-9af0-13a9443797e4, Date: June 25, 2024\n",
      "Heading: The giantExxonproject that could create the world’s last petrostate, Link: /content/2e4b2015-27e6-4b26-a02f-0040a71c6852, Date: June 25, 2024\n",
      "Heading: Goldman names Hess chief to its board as it guides oil company sale, Link: /content/aa5f63bc-f505-46bd-a2ae-035f48385758, Date: June 24, 2024\n",
      "Heading: What does the family office explosion mean for the world?Premiumcontent, Link: /content/8feb2e9d-e52f-443e-80ef-62a0990f7f63, Date: June 19, 2024\n",
      "Heading: Fisker’s ride from Apollo deal to bankruptcyPremiumcontent, Link: /content/0b07add9-99f4-492f-94fe-681263397531, Date: June 19, 2024\n",
      "Heading: US judge endsExxonlawsuit against shareholder over climate activism, Link: /content/45c029dd-f245-4914-9489-066d3b403616, Date: June 18, 2024\n",
      "Heading: US executive pay rises at fastest rate in 14 years, Link: /content/a0179a0a-80bf-4bfc-8dea-1a29e6c7d10c, Date: June 16, 2024\n",
      "Heading: US shale industry’s $200bn dealmaking wave redraws energy landscape, Link: /content/e7f37444-45e4-4b68-a5e0-991c7c9d1151, Date: June 2, 2024\n",
      "Heading: Vermont to make Big Oil pay for climate damages, Link: /content/21f45534-fb09-4ca2-9f23-a10a0ceb3458, Date: May 31, 2024\n",
      "Heading: Shell vote highlights asset managers’ climate dividePremiumcontent, Link: /content/61e21e75-1f05-43fb-9e20-8ef542b93dca, Date: May 31, 2024\n",
      "Heading: Transcript: Donald Trump guilty on all counts, Link: /content/6e919e97-aab5-4479-a3c3-def8dbaf4774, Date: May 31, 2024\n",
      "Heading: AI’s thirst for electricity risks slowing US coal phaseoutPremiumcontent, Link: /content/158d20ec-fcb1-4638-ad74-6b43bf6a3df0, Date: May 30, 2024\n",
      "Heading: Why the European oil megamerger has not gushed forthPremiumcontent, Link: /content/803bc7e8-59cc-4c89-a127-09a31cd25891, Date: May 30, 2024\n",
      "Heading: Exxonprevails over dissident shareholders in board battle, Link: /content/99d1b931-6b9b-4612-9566-1affe31f279d, Date: May 29, 2024\n",
      "Heading: Megadeals reshape the US oil industry, Link: /content/b37258df-7923-4a61-b3ed-f4f5f4b442a4, Date: May 29, 2024\n",
      "Heading: Exxonprevails over dissident shareholders in board battle, Link: /content/d38b044c-3f1b-43c8-8ed9-a0576e96e866, Date: May 29, 2024\n",
      "Heading: FirstFT: ConocoPhillips launches bid for smaller rival, Link: /content/5bd99fd8-9d1f-495f-8b5d-caf85dc988ac, Date: May 29, 2024\n",
      "Total articles collected: 25\n"
     ]
    }
   ],
   "source": [
    "# ft articles data [heading, link, date]\n",
    "\n",
    "import requests\n",
    "from bs4 import BeautifulSoup\n",
    "\n",
    "news_data = []\n",
    "keyword = 'exxon'\n",
    "            \n",
    "\n",
    "for page in range(1, 2):\n",
    "    url = f\"https://www.ft.com/search?q={keyword}&page={page}&sort=date&isFirstView=true\"\n",
    "    result = requests.get(url)\n",
    "    result_content = result.content\n",
    "    soup = BeautifulSoup(result_content, \"lxml\")\n",
    "    \n",
    "    for article in soup.findAll(\"div\", {\"class\": \"o-teaser\"}):\n",
    "        heading = article.find(\"div\", {\"class\": \"o-teaser__heading\"}).get_text(strip=True) #find(text=True), find text is outdated\n",
    "        link = article.find(\"div\", {\"class\": \"o-teaser__heading\"}).find('a', href=True)\n",
    "        date = article.find('time', {\"class\": \"o-teaser__timestamp-date\"})\n",
    "\n",
    "        if heading and link and date:\n",
    "            news_data.append([heading, link['href'], date.text.strip()])\n",
    "\n",
    "for item in news_data:\n",
    "    print(f\"Heading: {item[0]}, Link: {item[1]}, Date: {item[2]}\")\n",
    "\n",
    "print(f\"Total articles collected: {len(news_data)}\")"
   ]
  },
  {
   "cell_type": "code",
   "execution_count": 7,
   "metadata": {},
   "outputs": [],
   "source": [
    "# set up langchain env \n",
    "\n",
    "import os\n",
    "from dotenv import load_dotenv\n",
    "\n",
    "load_dotenv()\n",
    "\n",
    "LANGCHAIN_TRACING_V2 = os.getenv(\"LANGCHAIN_TRACING_V2\")\n",
    "LANGCHAIN_API_KEY = os.getenv(\"LANGCHAIN_API_KEY\")\n",
    "OPENAI_API_KEY = os.getenv(\"OPENAI_API_KEY\")\n"
   ]
  },
  {
   "cell_type": "code",
   "execution_count": 12,
   "metadata": {},
   "outputs": [
    {
     "name": "stdout",
     "output_type": "stream",
     "text": [
      "https://www.ft.com/content/1089ff59-47b9-41a2-83b1-98a205587b23\n"
     ]
    }
   ],
   "source": [
    "myurl = 'https://www.ft.com' + news_data[1][1]\n",
    "print(myurl)"
   ]
  },
  {
   "cell_type": "code",
   "execution_count": 13,
   "metadata": {},
   "outputs": [
    {
     "data": {
      "text/plain": [
       "7134"
      ]
     },
     "execution_count": 13,
     "metadata": {},
     "output_type": "execute_result"
    }
   ],
   "source": [
    "import bs4\n",
    "from langchain_community.document_loaders import WebBaseLoader\n",
    "\n",
    "myurl = 'https://www.ft.com' + news_data[0][1]\n",
    "\n",
    "bs4_strainer = bs4.SoupStrainer(class_=(\"o-topper__headline o-topper__headline--large\", \"n-content-body js-article__content-body\"))\n",
    "loader = WebBaseLoader(\n",
    "    web_paths=(myurl,),\n",
    "    bs_kwargs={\"parse_only\": bs4_strainer},\n",
    ")\n",
    "docs = loader.load()\n",
    "\n",
    "len(docs[0].page_content)"
   ]
  },
  {
   "cell_type": "code",
   "execution_count": 14,
   "metadata": {},
   "outputs": [
    {
     "name": "stdout",
     "output_type": "stream",
     "text": [
      "This article is an onsite version of our Moral Money newsletter. Premium subscribers can sign up here to get the newsletter delivered three times a week. Standard subscribers can upgrade to Premium here, or explore all FT newsletters.Visit our Moral Money hub for all the latest ESG news, opinion and analysis from around the FT Welcome back. For today’s newsletter, I look at an area of growing importance for global oil companies anxious about slowing demand for hydrocarbon fuels.Petrochemicals, which go into plastics, polyester and many other cheap and lightweight commodities that underpin modern life, could buoy the profits of oil companies even after demand for transport fuels has peaked. I look at how the fight for market share in the petrochemicals business is heating up — as well as the threat it might face from green alternatives.Thanks for reading.PetrochemicalsPetrochemicals promise a future to oil companiesPetrochemicals hold the hope of the oil industry. With the US and Europe likely to have passed peak fossil fuel demand, owing partly to the rise of electric vehicles, oil and gas majors are preparing for a world in which transport fuels are no longer a big driver of growth.Petrochemicals are woven through modern life, from packaging and detergents to medicines and fertilisers. The International Energy Agency predicts that oil demand will grow to 105.45mn barrels per day in 2030, from 102.24mn bpd last year. Within that growth, 2.8mn bpd — more than 85 per cent of the overall increase in demand — will come from petrochemicals, it says.The fight for market share in petrochemicals is already fierce, and will matter enormously for some of the energy sector’s biggest listed companies. In the short term, US shale oil producers have been a prime beneficiary. But even as this seems to be an area of promise for the global oil majors, such as ExxonMobil and Shell, they need to consider how much of this demand they will actually be able to service — and how much of a threat they face from green alternatives.The fight for the Chinese marketThe explosion of demand for petrochemicals is overwhelmingly a Chinese story, reflecting that country’s vast industrial output. About 6.7mn bpd, or 6.5 per cent of all global oil use, currently goes to supply China with petrochemicals, according to Ciarán Healy, an oil market analyst at the IEA, making this the single largest contributor to world oil demand growth in recent years.Widely used synthetics such as polyester and nylon are derived from petroleum, and fast-fashion ecommerce retailers such as Shein and Temu have been strong drivers of demand.Petrochemicals may also be crucial for the green energy transition. Electric vehicles use more thermoplastics, foams, fibres and rubber pads than internal combustion engine vehicles, David Yankovitz, the US chemical practice leader at Deloitte, told me. To make EVs more lightweight, carmakers are substituting plastic resins for metal parts. All told, Yankovitz said, roughly three-quarters of all emissions-reduction technologies require chemicals, most of which are oil-derived.China has met much of that demand through domestic processing of imported crude. Between 2019 and the end of 2024, China will have built as much capacity to produce olefins, which are used in plastic, as currently exists in Europe, South Korea, and Japan, the IEA has forecast. But the US shale oil boom has also formed a mutually reinforcing “symbiosis” with growing Chinese demand for petrochemicals, Healy told me. Between 2019 and 2023, the US was the only major producer to boost its polymer exports into China, according to ICIS data.Over the same period, Healy said, Gulf producers lost market share in major classes of petrochemicals, notably natural gas liquids such as ethane and propane.But Gulf producers are vying fiercely for Chinese market share. China is the biggest market for Saudi crude oil, and will be critical to state oil company Saudi Aramco’s ambitions to convert more than one-third of its current oil output into petrochemicals by 2035. Aramco has elbowed into Chinese refineries, acquiring a 10 per cent stake last year in Shenzhen-listed Rongsheng Petrochemical for $3.6bn, and entering talks to buy a stake in Hengli Petrochemical, a top Chinese producer of chemicals for plastics. Last year, Aramco-owned S-Oil broke ground on a $7bn petrochemical factory in South Korea.Adam Hanieh, a professor of the political economy of the Middle East at the University of Exeter, argues that this is part of the rise of the “East-East hydrocarbon circuit”. There is a tendency to dismiss Middle Eastern countries’ investments in downstream diversification, he said, and “to treat the Gulf as simply oil spigots”. But he pointed to a recent spate of investments in refining capacity as evidence of Gulf states’ long-term strategy.US oil majors have also been part of the action. Exxon is building its own petrochemical complex in southern China’s Guangdong province, as\n"
     ]
    }
   ],
   "source": [
    "print(docs[0].page_content[:5000])"
   ]
  },
  {
   "cell_type": "code",
   "execution_count": 16,
   "metadata": {},
   "outputs": [
    {
     "data": {
      "text/plain": [
       "9"
      ]
     },
     "execution_count": 16,
     "metadata": {},
     "output_type": "execute_result"
    }
   ],
   "source": [
    "from langchain_text_splitters import RecursiveCharacterTextSplitter\n",
    "\n",
    "text_splitter = RecursiveCharacterTextSplitter(\n",
    "    chunk_size=1000, chunk_overlap=200, add_start_index=True\n",
    ")\n",
    "all_splits = text_splitter.split_documents(docs)\n",
    "\n",
    "len(all_splits)"
   ]
  },
  {
   "cell_type": "code",
   "execution_count": 17,
   "metadata": {},
   "outputs": [
    {
     "data": {
      "text/plain": [
       "1000"
      ]
     },
     "execution_count": 17,
     "metadata": {},
     "output_type": "execute_result"
    }
   ],
   "source": [
    "len(all_splits[0].page_content)"
   ]
  },
  {
   "cell_type": "code",
   "execution_count": 20,
   "metadata": {},
   "outputs": [],
   "source": [
    "# all_splits[9].metadata"
   ]
  },
  {
   "cell_type": "code",
   "execution_count": 22,
   "metadata": {},
   "outputs": [],
   "source": [
    "from langchain_chroma import Chroma\n",
    "from langchain_openai import OpenAIEmbeddings\n",
    "\n",
    "vectorstore = Chroma.from_documents(documents=all_splits, embedding=OpenAIEmbeddings())"
   ]
  },
  {
   "cell_type": "code",
   "execution_count": 27,
   "metadata": {},
   "outputs": [
    {
     "name": "stdout",
     "output_type": "stream",
     "text": [
      "as evidence of Gulf states’ long-term strategy.US oil majors have also been part of the action. Exxon is building its own petrochemical complex in southern China’s Guangdong province, as well as expanding its own chemical production at existing facilities on the US Gulf Coast.The drive for greener optionsAmid tough competition for the fastest-growing segment of global oil demand, some are betting that there is scope for further disruption — replacing petrochemicals with greener alternatives.At a refinery south-east of Paris, which was originally configured to take in crude oil, TotalEnergies is building a recycling facility. UK petrochemicals group Ineos, run by billionaire Sir Jim Ratcliffe, is developing a new ethylene cracker in the port of Antwerp that it claims would be the greenest in Europe, representing “the largest investment in the European chemical sector for a generation”.Meanwhile, in the US a crowd of start-ups have emerged that are seeking to convert biomass such as\n"
     ]
    }
   ],
   "source": [
    "retriever = vectorstore.as_retriever(search_type=\"similarity\", search_kwargs={\"k\": 6})\n",
    "\n",
    "retrieved_docs = retriever.invoke(\"What was said about Exxon?\")\n",
    "\n",
    "len(retrieved_docs)\n",
    "print(retrieved_docs[0].page_content)"
   ]
  },
  {
   "cell_type": "code",
   "execution_count": 28,
   "metadata": {},
   "outputs": [],
   "source": [
    "from langchain_openai import ChatOpenAI\n",
    "import getpass\n",
    "import os\n",
    "import langchainhub\n",
    "from langchain import hub\n",
    "\n",
    "llm = ChatOpenAI(model=\"gpt-3.5-turbo-0125\")"
   ]
  },
  {
   "cell_type": "code",
   "execution_count": 29,
   "metadata": {},
   "outputs": [
    {
     "name": "stdout",
     "output_type": "stream",
     "text": [
      "input_variables=['context', 'question'] metadata={'lc_hub_owner': 'rlm', 'lc_hub_repo': 'rag-prompt', 'lc_hub_commit_hash': '50442af133e61576e74536c6556cefe1fac147cad032f4377b60c436e6cdcb6e'} messages=[HumanMessagePromptTemplate(prompt=PromptTemplate(input_variables=['context', 'question'], template=\"You are an assistant for question-answering tasks. Use the following pieces of retrieved context to answer the question. If you don't know the answer, just say that you don't know. Use three sentences maximum and keep the answer concise.\\nQuestion: {question} \\nContext: {context} \\nAnswer:\"))]\n",
      "You are an assistant for question-answering tasks. Use the following pieces of retrieved context to answer the question. If you don't know the answer, just say that you don't know. Use three sentences maximum and keep the answer concise.\n",
      "Question: filler question \n",
      "Context: filler context \n",
      "Answer:\n"
     ]
    }
   ],
   "source": [
    "prompt = hub.pull(\"rlm/rag-prompt\")\n",
    "print(prompt)\n",
    "\n",
    "example_messages = prompt.invoke(\n",
    "    {\"context\": \"filler context\", \"question\": \"filler question\"}\n",
    ").to_messages()\n",
    "\n",
    "example_messages\n",
    "print(example_messages[0].content)"
   ]
  },
  {
   "cell_type": "code",
   "execution_count": 30,
   "metadata": {},
   "outputs": [
    {
     "name": "stdout",
     "output_type": "stream",
     "text": [
      "Exxon is building its own petrochemical complex in southern China’s Guangdong province and expanding its chemical production at existing facilities on the US Gulf Coast. The fight for market share in the petrochemicals business is heating up, with the explosion of demand for petrochemicals being overwhelmingly a Chinese story. US oil majors, including Exxon, are part of the action in the petrochemical sector."
     ]
    }
   ],
   "source": [
    "from langchain_core.output_parsers import StrOutputParser\n",
    "from langchain_core.runnables import RunnablePassthrough\n",
    "\n",
    "\n",
    "def format_docs(docs):\n",
    "    return \"\\n\\n\".join(doc.page_content for doc in docs)\n",
    "\n",
    "\n",
    "rag_chain = (\n",
    "    {\"context\": retriever | format_docs, \"question\": RunnablePassthrough()}\n",
    "    | prompt\n",
    "    | llm\n",
    "    | StrOutputParser()\n",
    ")\n",
    "\n",
    "for chunk in rag_chain.stream(\"What was said about Exxon?\"):\n",
    "    print(chunk, end=\"\", flush=True)"
   ]
  }
 ],
 "metadata": {
  "kernelspec": {
   "display_name": "Python 3",
   "language": "python",
   "name": "python3"
  },
  "language_info": {
   "codemirror_mode": {
    "name": "ipython",
    "version": 3
   },
   "file_extension": ".py",
   "mimetype": "text/x-python",
   "name": "python",
   "nbconvert_exporter": "python",
   "pygments_lexer": "ipython3",
   "version": "3.12.2"
  }
 },
 "nbformat": 4,
 "nbformat_minor": 2
}
