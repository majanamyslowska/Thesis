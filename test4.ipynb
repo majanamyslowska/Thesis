{
 "cells": [
  {
   "cell_type": "code",
   "execution_count": 1,
   "metadata": {},
   "outputs": [
    {
     "name": "stdout",
     "output_type": "stream",
     "text": [
      "Heading: Wall Street reports best quarter for investment banking in 2 years, Link: /content/970d86e0-e728-49e4-b300-670685a479a8, Date: July 17, 2024\n",
      "Heading: Oil industry eyes petrochemicals profits amid uncertain fossil fuel demandPremiumcontent, Link: /content/d1e582ea-4b08-418b-aa33-18dc943688c1, Date: July 8, 2024\n",
      "Heading: Proxy season results show support for ESG efforts continues to ebb, Link: /content/1089ff59-47b9-41a2-83b1-98a205587b23, Date: July 5, 2024\n",
      "Heading: Letter: Here’s my simple question about Guyana’s oil bonanza, Link: /content/c4f06b34-39f4-45d6-bda4-2c089cb44020, Date: July 1, 2024\n",
      "Heading: Keep faith in China, Li Qiang tells business at ‘Summer Davos’, Link: /content/1f04f30c-a8c1-4b2e-83cc-dd0a4a8ee350, Date: June 28, 2024\n",
      "Heading: Trump would be ‘devastating’ for offshore wind, warns Massachusetts governorPremiumcontent, Link: /content/0190f812-f6a0-4662-b8f8-a0c8077a70b0, Date: June 27, 2024\n",
      "Heading: Business bridles at cost of green transition, Link: /content/f41bd09a-a870-49fa-8a85-6138c6469d56, Date: June 26, 2024\n",
      "Heading: Transcript: WillExxonmake or break Guyana?, Link: /content/a96ae9c3-1013-4dbb-b2df-8ae7e9ab03c3, Date: June 26, 2024\n",
      "Heading: WillExxonmake or break Guyana?, Link: /content/0cd147e8-914e-4103-ba65-22e0ee757eef, Date: June 26, 2024\n",
      "Heading: Will Mexico’s president-elect meet the nation’s renewable targets?Premiumcontent, Link: /content/921e2266-6ab9-4793-9af0-13a9443797e4, Date: June 25, 2024\n",
      "Heading: The giantExxonproject that could create the world’s last petrostate, Link: /content/2e4b2015-27e6-4b26-a02f-0040a71c6852, Date: June 25, 2024\n",
      "Heading: Goldman names Hess chief to its board as it guides oil company sale, Link: /content/aa5f63bc-f505-46bd-a2ae-035f48385758, Date: June 24, 2024\n",
      "Heading: What does the family office explosion mean for the world?Premiumcontent, Link: /content/8feb2e9d-e52f-443e-80ef-62a0990f7f63, Date: June 19, 2024\n",
      "Heading: Fisker’s ride from Apollo deal to bankruptcyPremiumcontent, Link: /content/0b07add9-99f4-492f-94fe-681263397531, Date: June 19, 2024\n",
      "Heading: US judge endsExxonlawsuit against shareholder over climate activism, Link: /content/45c029dd-f245-4914-9489-066d3b403616, Date: June 18, 2024\n",
      "Heading: US executive pay rises at fastest rate in 14 years, Link: /content/a0179a0a-80bf-4bfc-8dea-1a29e6c7d10c, Date: June 16, 2024\n",
      "Heading: US shale industry’s $200bn dealmaking wave redraws energy landscape, Link: /content/e7f37444-45e4-4b68-a5e0-991c7c9d1151, Date: June 2, 2024\n",
      "Heading: Vermont to make Big Oil pay for climate damages, Link: /content/21f45534-fb09-4ca2-9f23-a10a0ceb3458, Date: May 31, 2024\n",
      "Heading: Shell vote highlights asset managers’ climate dividePremiumcontent, Link: /content/61e21e75-1f05-43fb-9e20-8ef542b93dca, Date: May 31, 2024\n",
      "Heading: Transcript: Donald Trump guilty on all counts, Link: /content/6e919e97-aab5-4479-a3c3-def8dbaf4774, Date: May 31, 2024\n",
      "Heading: AI’s thirst for electricity risks slowing US coal phaseoutPremiumcontent, Link: /content/158d20ec-fcb1-4638-ad74-6b43bf6a3df0, Date: May 30, 2024\n",
      "Heading: Why the European oil megamerger has not gushed forthPremiumcontent, Link: /content/803bc7e8-59cc-4c89-a127-09a31cd25891, Date: May 30, 2024\n",
      "Heading: Exxonprevails over dissident shareholders in board battle, Link: /content/99d1b931-6b9b-4612-9566-1affe31f279d, Date: May 29, 2024\n",
      "Heading: Megadeals reshape the US oil industry, Link: /content/b37258df-7923-4a61-b3ed-f4f5f4b442a4, Date: May 29, 2024\n",
      "Heading: Exxonprevails over dissident shareholders in board battle, Link: /content/d38b044c-3f1b-43c8-8ed9-a0576e96e866, Date: May 29, 2024\n",
      "Total articles collected: 25\n"
     ]
    }
   ],
   "source": [
    "# ft articles data [heading, link, date]\n",
    "\n",
    "import requests\n",
    "from bs4 import BeautifulSoup\n",
    "\n",
    "news_data = []\n",
    "keyword = 'exxon'\n",
    "            \n",
    "\n",
    "for page in range(1, 2):\n",
    "    url = f\"https://www.ft.com/search?q={keyword}&page={page}&sort=date&isFirstView=true\"\n",
    "    result = requests.get(url)\n",
    "    result_content = result.content\n",
    "    soup = BeautifulSoup(result_content, \"lxml\")\n",
    "    \n",
    "    for article in soup.findAll(\"div\", {\"class\": \"o-teaser\"}):\n",
    "        heading = article.find(\"div\", {\"class\": \"o-teaser__heading\"}).get_text(strip=True) #find(text=True), find text is outdated\n",
    "        link = article.find(\"div\", {\"class\": \"o-teaser__heading\"}).find('a', href=True)\n",
    "        date = article.find('time', {\"class\": \"o-teaser__timestamp-date\"})\n",
    "\n",
    "        if heading and link and date:\n",
    "            news_data.append([heading, link['href'], date.text.strip()])\n",
    "\n",
    "for item in news_data:\n",
    "    print(f\"Heading: {item[0]}, Link: {item[1]}, Date: {item[2]}\")\n",
    "\n",
    "print(f\"Total articles collected: {len(news_data)}\")"
   ]
  },
  {
   "cell_type": "code",
   "execution_count": 2,
   "metadata": {},
   "outputs": [],
   "source": [
    "# set up langchain env \n",
    "\n",
    "import os\n",
    "from dotenv import load_dotenv\n",
    "\n",
    "load_dotenv()\n",
    "\n",
    "LANGCHAIN_TRACING_V2 = os.getenv(\"LANGCHAIN_TRACING_V2\")\n",
    "LANGCHAIN_API_KEY = os.getenv(\"LANGCHAIN_API_KEY\")\n",
    "OPENAI_API_KEY = os.getenv(\"OPENAI_API_KEY\")\n"
   ]
  },
  {
   "cell_type": "code",
   "execution_count": 3,
   "metadata": {},
   "outputs": [
    {
     "name": "stdout",
     "output_type": "stream",
     "text": [
      "https://www.ft.com/content/d1e582ea-4b08-418b-aa33-18dc943688c1\n"
     ]
    }
   ],
   "source": [
    "myurl = 'https://www.ft.com' + news_data[1][1]\n",
    "print(myurl)"
   ]
  },
  {
   "cell_type": "code",
   "execution_count": 4,
   "metadata": {},
   "outputs": [
    {
     "name": "stderr",
     "output_type": "stream",
     "text": [
      "USER_AGENT environment variable not set, consider setting it to identify your requests.\n"
     ]
    },
    {
     "data": {
      "text/plain": [
       "5131"
      ]
     },
     "execution_count": 4,
     "metadata": {},
     "output_type": "execute_result"
    }
   ],
   "source": [
    "import bs4\n",
    "from langchain_community.document_loaders import WebBaseLoader\n",
    "\n",
    "myurl = 'https://www.ft.com' + news_data[0][1]\n",
    "\n",
    "bs4_strainer = bs4.SoupStrainer(class_=(\"o-topper__headline o-topper__headline--large\", \"n-content-body js-article__content-body\"))\n",
    "loader = WebBaseLoader(\n",
    "    web_paths=(myurl,),\n",
    "    bs_kwargs={\"parse_only\": bs4_strainer},\n",
    ")\n",
    "docs = loader.load()\n",
    "\n",
    "len(docs[0].page_content)"
   ]
  },
  {
   "cell_type": "code",
   "execution_count": 5,
   "metadata": {},
   "outputs": [
    {
     "name": "stdout",
     "output_type": "stream",
     "text": [
      "Wall Street has posted its best quarter for investment banking in more than two years, in what bankers said were the “early innings” of a sustained recovery.The five largest investment banks — Goldman Sachs, JPMorgan Chase, Morgan Stanley, Bank of America and Citigroup — together reported investment banking fees of $8.2bn in the second quarter, a 40 per cent increase from a year earlier and the highest since the start of 2022. All of the banks except Goldman announced higher than expected investment banking revenues for the quarter. Morgan Stanley chief financial officer Sharon Yeshaya said on Tuesday that as buyers and sellers started to close a valuation gap that has stymied deals, “we expect that we are still in the early innings of an investment banking rebound”, echoing a phrase used by Goldman chief executive David Solomon a day earlier.“The numbers look great,” said UBS analyst Brennan Hakwen, who said they “really fed into this narrative of capital markets reopening, which has thematically been absolutely front and centre for investors”. Each of the big five investment banks has outperformed the benchmark S&P 500 index over the past three months. On Tuesday, bullish comments from Morgan Stanley chief executive Ted Pick about the outlook for investment banking helped reverse a hit to the bank’s shares from mixed quarterly results. “I think we’re in the early stages of a multiyear investment banking-led cycle,” Pick told analysts. “We are quite convicted on this call.”Goldman’s Solomon said on a call with analysts that the firm’s “investment banking backlog is up significantly this quarter” with scope for activity to pick up further, while JPMorgan chief financial officer Jeremy Barnum said discussions with clients about deals were “definitely elevated”.Pick said in some areas there were now three times as many “bakeoffs” — where banks pitch for roles on upcoming deals — than a year ago. Fees are generally paid when deals complete, signalling that investment banking revenues are likely to increase further in the quarters ahead. Fees from debt deals have outstripped other areas of investment banking, as corporate borrowers look to refinance or raise new debt as interest rates have stabilised. Revenues from debt underwriting at the five banks were up more than 50 per cent from a year earlier to $3.7bn.Citi and Morgan Stanley have been the biggest beneficiaries of the recent rebound in debt deals. Fees at the two banks increased by about 90 per cent and 70 per cent, respectively, from a year ago, as the banks recovered ground they had ceded to rivals. Renewed confidence in the economy has increased investor appetite for deals that would have been deemed too risky just a few months ago.Troubled aeroplane manufacturer Boeing raised $10bn in late April, led by BofA, Citi, JPMorgan and Wells Fargo, in part to pay off debt that is expected to come due in the next two years.Equity underwriting and M&A deal fees also climbed. Revenues linked to share issues increased 36 per cent to $1.8bn, with the second quarter boosted by the Nasdaq listing of South Korean online comics platform Webtoon Entertainment, which raised $315mn. Goldman, Morgan Stanley, JPMorgan and Evercore led that deal, while JPMorgan, BofA and Morgan Stanley are leading the IPO for Ardent Health Partners, which could raise more than $300mn. JPMorgan generated $495mn in fees from stock offerings in the quarter followed by Goldman, which brought in $425mn.Revenues from M&A advice climbed by a more modest 25 per cent to $2.7bn in the second quarter. Although there has only been a handful of big deals to close so far this year — not least Exxon’s $60bn acquisition of Pioneer — there are signs that high-value transactions are picking up. The value of deals announced since the start of the year was up 43 per cent in the US compared with a year earlier, while this week it was reported that Google was in talks to acquire a cyber security start-up Wiz in a $23bn deal. RecommendedLexUS banksGoldman Sachs’ results were good, but not 1999 good Premium contentIf those announced deals are completed, Goldman stands to take the lion’s share of the fees. The bank was named an adviser on $467bn of deals in the first half of the year, according to data from LSEG. That was equivalent to 28 per cent of all announced M&A, up from 21 per cent a year ago. Morgan Stanley, the second-ranked adviser, has also increased its share of deal advice from 15 per cent of deals to 24 per cent, with JPMorgan and BofA slipping down the rankings. Some analysts have expressed scepticism about whether the rebound will stick, however. Wall Street executives told investors a year ago that there were the “green shoots” of a recovery, but revenues still remained at historically low levels for months. Wells Fargo banking analyst Mike Mayo asked Morgan Stanley’s Pick on Tuesday, “Why is this time real?”“A number of folks have been calling for this, and it has been sort of a delayed shoots, i\n"
     ]
    }
   ],
   "source": [
    "print(docs[0].page_content[:5000])"
   ]
  },
  {
   "cell_type": "code",
   "execution_count": 16,
   "metadata": {},
   "outputs": [
    {
     "data": {
      "text/plain": [
       "9"
      ]
     },
     "execution_count": 16,
     "metadata": {},
     "output_type": "execute_result"
    }
   ],
   "source": [
    "from langchain_text_splitters import RecursiveCharacterTextSplitter\n",
    "\n",
    "text_splitter = RecursiveCharacterTextSplitter(\n",
    "    chunk_size=1000, chunk_overlap=200, add_start_index=True\n",
    ")\n",
    "all_splits = text_splitter.split_documents(docs)\n",
    "\n",
    "len(all_splits)"
   ]
  },
  {
   "cell_type": "code",
   "execution_count": 17,
   "metadata": {},
   "outputs": [
    {
     "data": {
      "text/plain": [
       "1000"
      ]
     },
     "execution_count": 17,
     "metadata": {},
     "output_type": "execute_result"
    }
   ],
   "source": [
    "len(all_splits[0].page_content)"
   ]
  },
  {
   "cell_type": "code",
   "execution_count": 20,
   "metadata": {},
   "outputs": [],
   "source": [
    "# all_splits[9].metadata"
   ]
  },
  {
   "cell_type": "code",
   "execution_count": 22,
   "metadata": {},
   "outputs": [],
   "source": [
    "from langchain_chroma import Chroma\n",
    "from langchain_openai import OpenAIEmbeddings\n",
    "\n",
    "vectorstore = Chroma.from_documents(documents=all_splits, embedding=OpenAIEmbeddings())"
   ]
  },
  {
   "cell_type": "code",
   "execution_count": 27,
   "metadata": {},
   "outputs": [
    {
     "name": "stdout",
     "output_type": "stream",
     "text": [
      "as evidence of Gulf states’ long-term strategy.US oil majors have also been part of the action. Exxon is building its own petrochemical complex in southern China’s Guangdong province, as well as expanding its own chemical production at existing facilities on the US Gulf Coast.The drive for greener optionsAmid tough competition for the fastest-growing segment of global oil demand, some are betting that there is scope for further disruption — replacing petrochemicals with greener alternatives.At a refinery south-east of Paris, which was originally configured to take in crude oil, TotalEnergies is building a recycling facility. UK petrochemicals group Ineos, run by billionaire Sir Jim Ratcliffe, is developing a new ethylene cracker in the port of Antwerp that it claims would be the greenest in Europe, representing “the largest investment in the European chemical sector for a generation”.Meanwhile, in the US a crowd of start-ups have emerged that are seeking to convert biomass such as\n"
     ]
    }
   ],
   "source": [
    "retriever = vectorstore.as_retriever(search_type=\"similarity\", search_kwargs={\"k\": 6})\n",
    "\n",
    "retrieved_docs = retriever.invoke(\"What was said about Exxon?\")\n",
    "\n",
    "len(retrieved_docs)\n",
    "print(retrieved_docs[0].page_content)"
   ]
  },
  {
   "cell_type": "code",
   "execution_count": 28,
   "metadata": {},
   "outputs": [],
   "source": [
    "from langchain_openai import ChatOpenAI\n",
    "import getpass\n",
    "import os\n",
    "import langchainhub\n",
    "from langchain import hub\n",
    "\n",
    "llm = ChatOpenAI(model=\"gpt-3.5-turbo-0125\")"
   ]
  },
  {
   "cell_type": "code",
   "execution_count": 29,
   "metadata": {},
   "outputs": [
    {
     "name": "stdout",
     "output_type": "stream",
     "text": [
      "input_variables=['context', 'question'] metadata={'lc_hub_owner': 'rlm', 'lc_hub_repo': 'rag-prompt', 'lc_hub_commit_hash': '50442af133e61576e74536c6556cefe1fac147cad032f4377b60c436e6cdcb6e'} messages=[HumanMessagePromptTemplate(prompt=PromptTemplate(input_variables=['context', 'question'], template=\"You are an assistant for question-answering tasks. Use the following pieces of retrieved context to answer the question. If you don't know the answer, just say that you don't know. Use three sentences maximum and keep the answer concise.\\nQuestion: {question} \\nContext: {context} \\nAnswer:\"))]\n",
      "You are an assistant for question-answering tasks. Use the following pieces of retrieved context to answer the question. If you don't know the answer, just say that you don't know. Use three sentences maximum and keep the answer concise.\n",
      "Question: filler question \n",
      "Context: filler context \n",
      "Answer:\n"
     ]
    }
   ],
   "source": [
    "prompt = hub.pull(\"rlm/rag-prompt\")\n",
    "print(prompt)\n",
    "\n",
    "example_messages = prompt.invoke(\n",
    "    {\"context\": \"filler context\", \"question\": \"filler question\"}\n",
    ").to_messages()\n",
    "\n",
    "example_messages\n",
    "print(example_messages[0].content)"
   ]
  },
  {
   "cell_type": "code",
   "execution_count": 30,
   "metadata": {},
   "outputs": [
    {
     "name": "stdout",
     "output_type": "stream",
     "text": [
      "Exxon is building its own petrochemical complex in southern China’s Guangdong province and expanding its chemical production at existing facilities on the US Gulf Coast. The fight for market share in the petrochemicals business is heating up, with the explosion of demand for petrochemicals being overwhelmingly a Chinese story. US oil majors, including Exxon, are part of the action in the petrochemical sector."
     ]
    }
   ],
   "source": [
    "from langchain_core.output_parsers import StrOutputParser\n",
    "from langchain_core.runnables import RunnablePassthrough\n",
    "\n",
    "\n",
    "def format_docs(docs):\n",
    "    return \"\\n\\n\".join(doc.page_content for doc in docs)\n",
    "\n",
    "\n",
    "rag_chain = (\n",
    "    {\"context\": retriever | format_docs, \"question\": RunnablePassthrough()}\n",
    "    | prompt\n",
    "    | llm\n",
    "    | StrOutputParser()\n",
    ")\n",
    "\n",
    "for chunk in rag_chain.stream(\"What was said about Exxon?\"):\n",
    "    print(chunk, end=\"\", flush=True)"
   ]
  }
 ],
 "metadata": {
  "kernelspec": {
   "display_name": "Python 3",
   "language": "python",
   "name": "python3"
  },
  "language_info": {
   "codemirror_mode": {
    "name": "ipython",
    "version": 3
   },
   "file_extension": ".py",
   "mimetype": "text/x-python",
   "name": "python",
   "nbconvert_exporter": "python",
   "pygments_lexer": "ipython3",
   "version": "3.12.2"
  }
 },
 "nbformat": 4,
 "nbformat_minor": 2
}
